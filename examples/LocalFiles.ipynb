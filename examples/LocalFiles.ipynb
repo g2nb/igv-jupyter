{
 "cells": [
  {
   "cell_type": "code",
   "execution_count": 6,
   "metadata": {},
   "outputs": [],
   "source": [
    "import igv"
   ]
  },
  {
   "cell_type": "code",
   "execution_count": 7,
   "metadata": {},
   "outputs": [],
   "source": [
    "b = igv.Browser(\n",
    "    {\"reference\": {\n",
    "        \"id\": \"hg19\",\n",
    "        \"fastaURL\": \"data/hg19.snippet.fasta\",\n",
    "        \"indexed\": False,\n",
    "        \"cytobandURL\": \"data/cytoband.hg19.snippet.txt\",\n",
    "        \"tracks\": [\n",
    "            {\n",
    "                \"name\": \"RefGene\",\n",
    "                \"url\": \"data/refgene.hg19.snippet.bed\"\n",
    "            }\n",
    "        ]\n",
    "    }}\n",
    ")"
   ]
  },
  {
   "cell_type": "code",
   "execution_count": 3,
   "metadata": {},
   "outputs": [
    {
     "data": {
      "text/html": [
       "<div class=\"igv-navbar\"></div><div id=\"igv_1133310\"></div>"
      ],
      "text/plain": [
       "<IPython.core.display.HTML object>"
      ]
     },
     "metadata": {},
     "output_type": "display_data"
    }
   ],
   "source": [
    "b.show()"
   ]
  },
  {
   "cell_type": "code",
   "execution_count": 5,
   "metadata": {},
   "outputs": [],
   "source": [
    "b.load_track(\n",
    "    {\n",
    "        \"name\": \"Local VCF\",\n",
    "        \"url\": \"data/example.vcf\",\n",
    "        \"format\": \"vcf\",\n",
    "        \"type\": \"variant\",\n",
    "        \"indexed\": False\n",
    "    })\n"
   ]
  },
  {
   "cell_type": "code",
   "execution_count": 5,
   "metadata": {
    "scrolled": true
   },
   "outputs": [],
   "source": [
    "b.zoom_in()"
   ]
  },
  {
   "cell_type": "code",
   "execution_count": 6,
   "metadata": {
    "scrolled": true
   },
   "outputs": [],
   "source": [
    "b.zoom_out()"
   ]
  }
 ],
 "metadata": {
  "kernelspec": {
   "display_name": "Python 3 (ipykernel)",
   "language": "python",
   "name": "python3"
  },
  "language_info": {
   "codemirror_mode": {
    "name": "ipython",
    "version": 3
   },
   "file_extension": ".py",
   "mimetype": "text/x-python",
   "name": "python",
   "nbconvert_exporter": "python",
   "pygments_lexer": "ipython3",
   "version": "3.8.5"
  },
  "pycharm": {
   "stem_cell": {
    "cell_type": "raw",
    "metadata": {
     "collapsed": false
    },
    "source": []
   }
  },
  "widgets": {
   "application/vnd.jupyter.widget-state+json": {
    "state": {
     "0464360efe55497c95213c0aea5124cb": {
      "model_module": "@jupyter-widgets/controls",
      "model_module_version": "1.5.0",
      "model_name": "TextModel",
      "state": {
       "_dom_classes": [
        "nbtools-menu-attached"
       ],
       "layout": "IPY_MODEL_6c4bf98c7fcd412c9b35a413a7081983",
       "style": "IPY_MODEL_5d692651e0834498b3cdeff85f077122"
      }
     },
     "089888607fd54c97bc8881380dd79f28": {
      "model_module": "@jupyter-widgets/controls",
      "model_module_version": "1.5.0",
      "model_name": "DescriptionStyleModel",
      "state": {
       "description_width": ""
      }
     },
     "0b4d819ac96c401c9cdc59eefe8cf3fd": {
      "model_module": "@jupyter-widgets/controls",
      "model_module_version": "1.5.0",
      "model_name": "GridBoxModel",
      "state": {
       "_dom_classes": [
        "nbtools-input",
        "nbtools-textinput"
       ],
       "children": [
        "IPY_MODEL_818a752416a74168ab8f7d64d0b36c0e",
        "IPY_MODEL_0464360efe55497c95213c0aea5124cb",
        "IPY_MODEL_25147c0ca94241619b9ccedb7c80f9c8"
       ],
       "layout": "IPY_MODEL_7205a43d7ee14cc5a48433d637de9cd5"
      }
     },
     "0d524680479646e892252c6c067ec21f": {
      "model_module": "@jupyter-widgets/controls",
      "model_module_version": "1.5.0",
      "model_name": "ComboboxModel",
      "state": {
       "_dom_classes": [
        "nbtools-menu-attached"
       ],
       "choices": {
        "": "",
        "alignment": "alignment",
        "annotation": "annotation",
        "arc": "arc",
        "bedtype": "bedtype",
        "gwas": "gwas",
        "interaction": "interaction",
        "mut": "mut",
        "seg": "seg",
        "variant": "variant",
        "wig": "wig"
       },
       "ensure_option": false,
       "kinds": [],
       "layout": "IPY_MODEL_2332d83a17074f408a172b3bc139445c",
       "style": "IPY_MODEL_40a6b89091ec45f5a248b30adbb1d867"
      }
     },
     "10af703f216248a6a64f68b401a350ed": {
      "model_module": "@jupyter-widgets/controls",
      "model_module_version": "1.5.0",
      "model_name": "VBoxModel",
      "state": {
       "children": [
        "IPY_MODEL_2977918b46a64b97ab22818b5b82d52c",
        "IPY_MODEL_ae75ab19d292442591e1bfce85a2ae3c"
       ],
       "layout": "IPY_MODEL_10d979ebbbdc47b2ad4b58631761c783"
      }
     },
     "10d979ebbbdc47b2ad4b58631761c783": {
      "model_module": "@jupyter-widgets/base",
      "model_module_version": "1.2.0",
      "model_name": "LayoutModel",
      "state": {}
     },
     "13a448bd7a134785a30f3165add41fe4": {
      "model_module": "@jupyter-widgets/base",
      "model_module_version": "1.2.0",
      "model_name": "LayoutModel",
      "state": {
       "grid_template_areas": "\n                    \"label input\"\n                    \". description\"\n                ",
       "grid_template_columns": "25% 75%",
       "grid_template_rows": "auto auto",
       "width": "100%"
      }
     },
     "14ab62f4f8984f099725204b3dfad4de": {
      "model_module": "@jupyter-widgets/base",
      "model_module_version": "1.2.0",
      "model_name": "LayoutModel",
      "state": {
       "grid_area": "input",
       "width": "auto"
      }
     },
     "154f7dfd1eca43cbafce73dc68ba2206": {
      "model_module": "@jupyter-widgets/base",
      "model_module_version": "1.2.0",
      "model_name": "LayoutModel",
      "state": {}
     },
     "1797c4973d79477082c27edabf58b242": {
      "model_module": "@jupyter-widgets/controls",
      "model_module_version": "1.5.0",
      "model_name": "GridBoxModel",
      "state": {
       "_dom_classes": [
        "nbtools-input",
        "nbtools-textinput"
       ],
       "children": [
        "IPY_MODEL_39c716410f1e4200964dd219dceb1cad",
        "IPY_MODEL_1c733b86463846d59db75d0e496356c2",
        "IPY_MODEL_e331e9d03a7a4d27ba1e295150b1a2fc"
       ],
       "layout": "IPY_MODEL_61508fe9c1164968a369b46017f5e414"
      }
     },
     "1a09a94e145a48ae8b2762e3a797ad9e": {
      "model_module": "@jupyter-widgets/controls",
      "model_module_version": "1.5.0",
      "model_name": "DescriptionStyleModel",
      "state": {
       "description_width": ""
      }
     },
     "1bfaa97487dc4fe1a01224d308d65a22": {
      "model_module": "@jupyter-widgets/base",
      "model_module_version": "1.2.0",
      "model_name": "LayoutModel",
      "state": {
       "grid_area": "description",
       "width": "auto"
      }
     },
     "1c733b86463846d59db75d0e496356c2": {
      "model_module": "@jupyter-widgets/controls",
      "model_module_version": "1.5.0",
      "model_name": "TextModel",
      "state": {
       "_dom_classes": [
        "nbtools-menu-attached"
       ],
       "layout": "IPY_MODEL_3528a089488e4273883c2a5b9b4c3c03",
       "style": "IPY_MODEL_2b74ee37d50f4edeab8fc1d6a39620cd"
      }
     },
     "1f9faef49ac245f1b13faa43c751b505": {
      "model_module": "@jupyter-widgets/controls",
      "model_module_version": "1.5.0",
      "model_name": "GridBoxModel",
      "state": {
       "_dom_classes": [
        "nbtools-input",
        "nbtools-comboinput"
       ],
       "children": [
        "IPY_MODEL_29583b1acf714de4b098f4bd13e6a17b",
        "IPY_MODEL_d0dc59cf2a5a448085dc89f30dee2155",
        "IPY_MODEL_bb1188efa08c440c8596d8888ece18eb"
       ],
       "layout": "IPY_MODEL_202794805b5948e1a7045ce0c0ddc7d2"
      }
     },
     "1facf95741b6462c8bd9a3e521a7085d": {
      "model_module": "@jupyter-widgets/base",
      "model_module_version": "1.2.0",
      "model_name": "LayoutModel",
      "state": {
       "grid_area": "label",
       "width": "auto"
      }
     },
     "202794805b5948e1a7045ce0c0ddc7d2": {
      "model_module": "@jupyter-widgets/base",
      "model_module_version": "1.2.0",
      "model_name": "LayoutModel",
      "state": {
       "grid_template_areas": "\n                    \"label input\"\n                    \". description\"\n                ",
       "grid_template_columns": "25% 75%",
       "grid_template_rows": "auto auto",
       "width": "100%"
      }
     },
     "2182c5f6d171460cad21e6b289ba20b6": {
      "model_module": "@jupyter-widgets/controls",
      "model_module_version": "1.5.0",
      "model_name": "LabelModel",
      "state": {
       "description": "tracks",
       "layout": "IPY_MODEL_6d7cda00377e474fa4eac705830c04fe",
       "style": "IPY_MODEL_5b2422333bd549e6a1cd582ba326a787",
       "value": "tracks"
      }
     },
     "21edd36a67494a2a93ba4d94e19c3868": {
      "model_module": "@jupyter-widgets/controls",
      "model_module_version": "1.5.0",
      "model_name": "DescriptionStyleModel",
      "state": {
       "description_width": ""
      }
     },
     "224dde4f095b4949abb00ba3c212f6de": {
      "model_module": "@jupyter-widgets/controls",
      "model_module_version": "1.5.0",
      "model_name": "FileUploadModel",
      "state": {
       "description_tooltip": null,
       "layout": "IPY_MODEL_5818193eb62c48d99f510db68aff1d2c",
       "style": "IPY_MODEL_c716fe547fdb48ab86a5ca01bfe9aa62"
      }
     },
     "2332d83a17074f408a172b3bc139445c": {
      "model_module": "@jupyter-widgets/base",
      "model_module_version": "1.2.0",
      "model_name": "LayoutModel",
      "state": {
       "grid_area": "input",
       "width": "auto"
      }
     },
     "238e1581361d4a38b7634d9b53fab9e3": {
      "model_module": "@jupyter-widgets/controls",
      "model_module_version": "1.5.0",
      "model_name": "LabelModel",
      "state": {
       "description": "Enter the URL to the index files that correspond to each track",
       "layout": "IPY_MODEL_5437170d972a47f8b74f6254ddf8c5ff",
       "style": "IPY_MODEL_da74e0bb4f074ed88d9ca903f6b05fb9",
       "value": "Enter the URL to the index files that correspond to each track"
      }
     },
     "2410ba9367f245f5aa5a3f009eccd749": {
      "model_module": "@jupyter-widgets/controls",
      "model_module_version": "1.5.0",
      "model_name": "GridBoxModel",
      "state": {
       "_dom_classes": [
        "nbtools-input",
        "nbtools-fileinput"
       ],
       "children": [
        "IPY_MODEL_65c785ba09f0472abaf0995a67da7221",
        "IPY_MODEL_b078e05de544481f8a0f05cd6cd854c1",
        "IPY_MODEL_238e1581361d4a38b7634d9b53fab9e3"
       ],
       "layout": "IPY_MODEL_13a448bd7a134785a30f3165add41fe4"
      }
     },
     "25147c0ca94241619b9ccedb7c80f9c8": {
      "model_module": "@jupyter-widgets/controls",
      "model_module_version": "1.5.0",
      "model_name": "LabelModel",
      "state": {
       "layout": "IPY_MODEL_aabffc7e971746578037e2ac605e9122",
       "style": "IPY_MODEL_6a77820291054bb4a0779736e9ec8387"
      }
     },
     "29583b1acf714de4b098f4bd13e6a17b": {
      "model_module": "@jupyter-widgets/controls",
      "model_module_version": "1.5.0",
      "model_name": "LabelModel",
      "state": {
       "description": "track format",
       "layout": "IPY_MODEL_5ae265f8a36d47aba102fbe3c8ed4315",
       "style": "IPY_MODEL_43d4451d27d848d3b29d98c8f3981b17",
       "value": "track format"
      }
     },
     "2977918b46a64b97ab22818b5b82d52c": {
      "model_module": "@jupyter-widgets/controls",
      "model_module_version": "1.5.0",
      "model_name": "ComboboxModel",
      "state": {
       "_dom_classes": [
        "nbtools-menu-attached"
       ],
       "choices": {},
       "ensure_option": false,
       "kinds": [],
       "layout": "IPY_MODEL_460a4072a75f4b959eb3228a923fffd4",
       "style": "IPY_MODEL_2c356db22ea74b09bf4d80e83aa6f555"
      }
     },
     "29b45fab82154584b75c3c4a762df155": {
      "model_module": "@jupyter-widgets/base",
      "model_module_version": "1.2.0",
      "model_name": "LayoutModel",
      "state": {}
     },
     "2b435167efda4acba4e7724512757983": {
      "model_module": "@jupyter-widgets/controls",
      "model_module_version": "1.5.0",
      "model_name": "DescriptionStyleModel",
      "state": {
       "description_width": ""
      }
     },
     "2b546a1d6e23481b8cbc675389f1a71f": {
      "model_module": "@jupyter-widgets/controls",
      "model_module_version": "1.5.0",
      "model_name": "GridBoxModel",
      "state": {
       "_dom_classes": [
        "nbtools-input",
        "nbtools-textinput"
       ],
       "children": [
        "IPY_MODEL_6bbe61f361d948ef9481a7b341f8ca69",
        "IPY_MODEL_e174068c391845b393ff684a781b52c0",
        "IPY_MODEL_e4f06ede05754f30b6932a7b4afe3448"
       ],
       "layout": "IPY_MODEL_8532c22c510d4e4e98c0ef5ec3864a69"
      }
     },
     "2b74ee37d50f4edeab8fc1d6a39620cd": {
      "model_module": "@jupyter-widgets/controls",
      "model_module_version": "1.5.0",
      "model_name": "DescriptionStyleModel",
      "state": {
       "description_width": ""
      }
     },
     "2c356db22ea74b09bf4d80e83aa6f555": {
      "model_module": "@jupyter-widgets/controls",
      "model_module_version": "1.5.0",
      "model_name": "DescriptionStyleModel",
      "state": {
       "description_width": ""
      }
     },
     "2d7083fd4adb4390b8a43fd54d08b73f": {
      "model_module": "@jupyter-widgets/base",
      "model_module_version": "1.2.0",
      "model_name": "LayoutModel",
      "state": {
       "grid_area": "input",
       "width": "auto"
      }
     },
     "2f2a408ae5cd45a988b0bfb8fa435be4": {
      "model_module": "@jupyter-widgets/base",
      "model_module_version": "1.2.0",
      "model_name": "LayoutModel",
      "state": {
       "grid_area": "description",
       "width": "auto"
      }
     },
     "307c86004abd43b8a35dd1a2f3a00239": {
      "model_module": "@jupyter-widgets/controls",
      "model_module_version": "1.5.0",
      "model_name": "LabelModel",
      "state": {
       "description": "Enter the URL to the track dataset(s)",
       "layout": "IPY_MODEL_2f2a408ae5cd45a988b0bfb8fa435be4",
       "style": "IPY_MODEL_8065f14f71174a4588c9d23c98c41285",
       "value": "Enter the URL to the track dataset(s)"
      }
     },
     "31f5459167e743ae9fcad003c0893653": {
      "model_module": "@jupyter-widgets/controls",
      "model_module_version": "1.5.0",
      "model_name": "DescriptionStyleModel",
      "state": {
       "description_width": ""
      }
     },
     "3528a089488e4273883c2a5b9b4c3c03": {
      "model_module": "@jupyter-widgets/base",
      "model_module_version": "1.2.0",
      "model_name": "LayoutModel",
      "state": {
       "grid_area": "input",
       "width": "auto"
      }
     },
     "36be0ef0905a47d0a3ba9a8485d261b1": {
      "model_module": "@jupyter-widgets/base",
      "model_module_version": "1.2.0",
      "model_name": "LayoutModel",
      "state": {}
     },
     "3749d50b28e7405886f68d063b5339e8": {
      "model_module": "@genepattern/nbtools",
      "model_module_version": "^21.2.0-beta.1",
      "model_name": "UIBuilderModel",
      "state": {
       "_model_module_version": "^21.2.0-beta.1",
       "_parameters": [
        {
         "choices": {
          "Bonobo (MPI-EVA panpan1.1/panPan2)": "panPan2",
          "C. elegans (ce11)": "ce11",
          "Chimp (SAC 2.1.4/panTro4)": "panTro4",
          "Cow (UMD_3.1.1/bosTau8)": "bosTau8",
          "D. melanogaster (dm6)": "dm6",
          "Dog (Broad CanFam3.1/canFam3)": "canFam3",
          "Gorilla (gorGor4.1/gorGor4)": "gorGor4",
          "Human (CRCh37/hg19)": "hg19",
          "Human (GRCh38/hg38)": "hg38",
          "Human (hg18)": "hg18",
          "Mouse (GRCm38/mm10)": "mm10",
          "Pig (SGSC Sscrofa11.1/susScr11)": "susScr11",
          "Rat (RGCS 6.0/rn6)": "rn6",
          "S. cerevisiae (sacCer3)": "sacCer3",
          "Zebrafish (GRCZ10/danRer10)": "danRer10",
          "Zebrafish (GRCZ11/danRer11)": "danRer11"
         },
         "combo": true,
         "default": "hg38",
         "description": "Choose the genome for your data.",
         "events": null,
         "hide": false,
         "id": null,
         "kinds": null,
         "label": "genome",
         "name": "genome",
         "optional": false,
         "sendto": false,
         "type": "choice",
         "value": ""
        },
        {
         "choices": {},
         "default": "",
         "description": "Enter the URL to the track dataset(s)",
         "events": null,
         "hide": false,
         "id": null,
         "kinds": null,
         "label": "tracks",
         "maximum": 100,
         "name": "tracks",
         "optional": true,
         "type": "file",
         "value": "None"
        },
        {
         "choices": {},
         "default": "",
         "description": "Enter the URL to the index files that correspond to each track",
         "events": null,
         "hide": false,
         "id": null,
         "kinds": null,
         "label": "indices",
         "maximum": 100,
         "name": "indices",
         "optional": true,
         "type": "file",
         "value": "None"
        },
        {
         "choices": {
          "": "",
          "bam": "bam",
          "bb": "bb",
          "bed": "bed",
          "bedgraph": "bedgraph",
          "bedpe": "bedpe",
          "bedpe-loop": "bedpe-loop",
          "bigbed": "bigbed",
          "bigwig": "bigwig",
          "bp": "bp",
          "bw": "bw",
          "cram": "cram",
          "gwas": "gwas",
          "mut": "mut",
          "seg": "seg",
          "tdf": "tdf",
          "vcf": "vcf",
          "wig": "wig"
         },
         "combo": true,
         "default": "",
         "description": "Enter the format of the track datasets",
         "events": null,
         "hide": false,
         "id": null,
         "kinds": null,
         "label": "track format",
         "name": "track_format",
         "optional": true,
         "type": "choice",
         "value": "None"
        },
        {
         "choices": {
          "": "",
          "alignment": "alignment",
          "annotation": "annotation",
          "arc": "arc",
          "bedtype": "bedtype",
          "gwas": "gwas",
          "interaction": "interaction",
          "mut": "mut",
          "seg": "seg",
          "variant": "variant",
          "wig": "wig"
         },
         "combo": true,
         "default": "",
         "description": "Enter the type of the track datasets",
         "events": null,
         "hide": false,
         "id": null,
         "kinds": null,
         "label": "track type",
         "name": "track_type",
         "optional": true,
         "type": "choice",
         "value": "None"
        },
        {
         "choices": {},
         "default": "",
         "description": "Provide a locus or gene of interest for your data",
         "events": null,
         "hide": false,
         "id": null,
         "kinds": null,
         "label": "locus",
         "name": "locus",
         "optional": true,
         "type": "text",
         "value": "None"
        },
        {
         "choices": {},
         "default": "",
         "description": "",
         "events": null,
         "hide": true,
         "id": null,
         "kinds": null,
         "label": "output variable",
         "name": "output_var",
         "optional": true,
         "type": "text",
         "value": ""
        }
       ],
       "_view_module_version": "^21.2.0-beta.1",
       "description": "Use igv.js to embed an interactive genome visualization",
       "form": "IPY_MODEL_d6974c30343845e0accf1d7002131d17",
       "layout": "IPY_MODEL_97f07f7671c5499eb17fc40f321f37b8",
       "logo": "http://igv.org/web/img/favicon.ico",
       "name": "igv.js: Integrative Genomics Viewer",
       "origin": "igv",
       "output": "IPY_MODEL_72e78165ffe14e58ba718a1934a57669",
       "output_var": "",
       "run_label": "Visualize"
      }
     },
     "37717f6f23714bfbbf75f4767222c24d": {
      "model_module": "@jupyter-widgets/base",
      "model_module_version": "1.2.0",
      "model_name": "LayoutModel",
      "state": {}
     },
     "391a7354dac64ba1993834cc152533b5": {
      "model_module": "@jupyter-widgets/controls",
      "model_module_version": "1.5.0",
      "model_name": "ComboboxModel",
      "state": {
       "_dom_classes": [
        "nbtools-menu-attached",
        "nbtools-nosendto"
       ],
       "choices": {
        "Bonobo (MPI-EVA panpan1.1/panPan2)": "panPan2",
        "C. elegans (ce11)": "ce11",
        "Chimp (SAC 2.1.4/panTro4)": "panTro4",
        "Cow (UMD_3.1.1/bosTau8)": "bosTau8",
        "D. melanogaster (dm6)": "dm6",
        "Dog (Broad CanFam3.1/canFam3)": "canFam3",
        "Gorilla (gorGor4.1/gorGor4)": "gorGor4",
        "Human (CRCh37/hg19)": "hg19",
        "Human (GRCh38/hg38)": "hg38",
        "Human (hg18)": "hg18",
        "Mouse (GRCm38/mm10)": "mm10",
        "Pig (SGSC Sscrofa11.1/susScr11)": "susScr11",
        "Rat (RGCS 6.0/rn6)": "rn6",
        "S. cerevisiae (sacCer3)": "sacCer3",
        "Zebrafish (GRCZ10/danRer10)": "danRer10",
        "Zebrafish (GRCZ11/danRer11)": "danRer11"
       },
       "ensure_option": false,
       "kinds": [],
       "layout": "IPY_MODEL_f2e47c9662f94890aec8555718c26c7f",
       "style": "IPY_MODEL_674fcad88c064fb2ab2516dfd3baaac2",
       "value": "hg38"
      }
     },
     "39c716410f1e4200964dd219dceb1cad": {
      "model_module": "@jupyter-widgets/controls",
      "model_module_version": "1.5.0",
      "model_name": "LabelModel",
      "state": {
       "description": "locus",
       "layout": "IPY_MODEL_f485df475c71427dae73f92899b345d3",
       "style": "IPY_MODEL_2b435167efda4acba4e7724512757983",
       "value": "locus"
      }
     },
     "3b52b76b9e784cbe91696c6670e56860": {
      "model_module": "@jupyter-widgets/base",
      "model_module_version": "1.2.0",
      "model_name": "LayoutModel",
      "state": {
       "grid_area": "description",
       "width": "auto"
      }
     },
     "40a6b89091ec45f5a248b30adbb1d867": {
      "model_module": "@jupyter-widgets/controls",
      "model_module_version": "1.5.0",
      "model_name": "DescriptionStyleModel",
      "state": {
       "description_width": ""
      }
     },
     "43d4451d27d848d3b29d98c8f3981b17": {
      "model_module": "@jupyter-widgets/controls",
      "model_module_version": "1.5.0",
      "model_name": "DescriptionStyleModel",
      "state": {
       "description_width": ""
      }
     },
     "460a4072a75f4b959eb3228a923fffd4": {
      "model_module": "@jupyter-widgets/base",
      "model_module_version": "1.2.0",
      "model_name": "LayoutModel",
      "state": {}
     },
     "521cc644a2a348c3b3faf4e6c2a38ad2": {
      "model_module": "@jupyter-widgets/controls",
      "model_module_version": "1.5.0",
      "model_name": "LabelModel",
      "state": {
       "description": "genome",
       "layout": "IPY_MODEL_fe42e75ca3d0493ebe62ab73b6554c49",
       "style": "IPY_MODEL_7fa5d36d457b4d96a3c2a3e0032109b9",
       "value": "genome*"
      }
     },
     "5359ff38b3d6422aaae004c269c287e7": {
      "model_module": "@jupyter-widgets/output",
      "model_module_version": "1.0.0",
      "model_name": "OutputModel",
      "state": {
       "layout": "IPY_MODEL_922468442e4c455892efb31096ce0148"
      }
     },
     "538c0eeb5cd841f0b8d0152cdf206755": {
      "model_module": "@jupyter-widgets/controls",
      "model_module_version": "1.5.0",
      "model_name": "DescriptionStyleModel",
      "state": {
       "description_width": ""
      }
     },
     "5437170d972a47f8b74f6254ddf8c5ff": {
      "model_module": "@jupyter-widgets/base",
      "model_module_version": "1.2.0",
      "model_name": "LayoutModel",
      "state": {
       "grid_area": "description",
       "width": "auto"
      }
     },
     "5818193eb62c48d99f510db68aff1d2c": {
      "model_module": "@jupyter-widgets/base",
      "model_module_version": "1.2.0",
      "model_name": "LayoutModel",
      "state": {}
     },
     "58cdbe7336be4c91aa1a897c2846d6db": {
      "model_module": "@jupyter-widgets/base",
      "model_module_version": "1.2.0",
      "model_name": "LayoutModel",
      "state": {
       "grid_area": "description",
       "width": "auto"
      }
     },
     "5ae265f8a36d47aba102fbe3c8ed4315": {
      "model_module": "@jupyter-widgets/base",
      "model_module_version": "1.2.0",
      "model_name": "LayoutModel",
      "state": {
       "grid_area": "label",
       "width": "auto"
      }
     },
     "5b2422333bd549e6a1cd582ba326a787": {
      "model_module": "@jupyter-widgets/controls",
      "model_module_version": "1.5.0",
      "model_name": "DescriptionStyleModel",
      "state": {
       "description_width": ""
      }
     },
     "5d692651e0834498b3cdeff85f077122": {
      "model_module": "@jupyter-widgets/controls",
      "model_module_version": "1.5.0",
      "model_name": "DescriptionStyleModel",
      "state": {
       "description_width": ""
      }
     },
     "61508fe9c1164968a369b46017f5e414": {
      "model_module": "@jupyter-widgets/base",
      "model_module_version": "1.2.0",
      "model_name": "LayoutModel",
      "state": {
       "grid_template_areas": "\n                    \"label input\"\n                    \". description\"\n                ",
       "grid_template_columns": "25% 75%",
       "grid_template_rows": "auto auto",
       "width": "100%"
      }
     },
     "63ac474e6188425b985b772f9ea0b636": {
      "model_module": "@jupyter-widgets/controls",
      "model_module_version": "1.5.0",
      "model_name": "HBoxModel",
      "state": {
       "children": [
        "IPY_MODEL_224dde4f095b4949abb00ba3c212f6de",
        "IPY_MODEL_10af703f216248a6a64f68b401a350ed"
       ],
       "layout": "IPY_MODEL_9ce9dd17677e4a74ac4eb646ce56d76c"
      }
     },
     "65c785ba09f0472abaf0995a67da7221": {
      "model_module": "@jupyter-widgets/controls",
      "model_module_version": "1.5.0",
      "model_name": "LabelModel",
      "state": {
       "description": "indices",
       "layout": "IPY_MODEL_1facf95741b6462c8bd9a3e521a7085d",
       "style": "IPY_MODEL_cbf458becd5842858066cdba9d40961f",
       "value": "indices"
      }
     },
     "674fcad88c064fb2ab2516dfd3baaac2": {
      "model_module": "@jupyter-widgets/controls",
      "model_module_version": "1.5.0",
      "model_name": "DescriptionStyleModel",
      "state": {
       "description_width": ""
      }
     },
     "6a77820291054bb4a0779736e9ec8387": {
      "model_module": "@jupyter-widgets/controls",
      "model_module_version": "1.5.0",
      "model_name": "DescriptionStyleModel",
      "state": {
       "description_width": ""
      }
     },
     "6bbe61f361d948ef9481a7b341f8ca69": {
      "model_module": "@jupyter-widgets/controls",
      "model_module_version": "1.5.0",
      "model_name": "LabelModel",
      "state": {
       "description": "output variable",
       "layout": "IPY_MODEL_73d58f4c7f7844cbac97e93f6b5896cd",
       "style": "IPY_MODEL_f5b6d174545f4a8a87e3a7143aa72642",
       "value": "output variable"
      }
     },
     "6c4bf98c7fcd412c9b35a413a7081983": {
      "model_module": "@jupyter-widgets/base",
      "model_module_version": "1.2.0",
      "model_name": "LayoutModel",
      "state": {
       "grid_area": "input",
       "width": "auto"
      }
     },
     "6d7cda00377e474fa4eac705830c04fe": {
      "model_module": "@jupyter-widgets/base",
      "model_module_version": "1.2.0",
      "model_name": "LayoutModel",
      "state": {
       "grid_area": "label",
       "width": "auto"
      }
     },
     "71df9807dec54c688dfaffbfcc2e8c39": {
      "model_module": "@jupyter-widgets/base",
      "model_module_version": "1.2.0",
      "model_name": "LayoutModel",
      "state": {
       "grid_area": "input",
       "width": "auto"
      }
     },
     "7205a43d7ee14cc5a48433d637de9cd5": {
      "model_module": "@jupyter-widgets/base",
      "model_module_version": "1.2.0",
      "model_name": "LayoutModel",
      "state": {
       "display": "none",
       "grid_template_areas": "\n                    \"label input\"\n                    \". description\"\n                ",
       "grid_template_columns": "25% 75%",
       "grid_template_rows": "auto auto",
       "width": "100%"
      }
     },
     "72e78165ffe14e58ba718a1934a57669": {
      "model_module": "@jupyter-widgets/output",
      "model_module_version": "1.0.0",
      "model_name": "OutputModel",
      "state": {
       "layout": "IPY_MODEL_37717f6f23714bfbbf75f4767222c24d"
      }
     },
     "73d58f4c7f7844cbac97e93f6b5896cd": {
      "model_module": "@jupyter-widgets/base",
      "model_module_version": "1.2.0",
      "model_name": "LayoutModel",
      "state": {
       "grid_area": "label",
       "width": "auto"
      }
     },
     "7a5886aaf37248a9a478c1b1bac434ef": {
      "model_module": "@jupyter-widgets/controls",
      "model_module_version": "1.5.0",
      "model_name": "DescriptionStyleModel",
      "state": {
       "description_width": ""
      }
     },
     "7ab9905bedc9422994973589255ceb70": {
      "model_module": "@jupyter-widgets/controls",
      "model_module_version": "1.5.0",
      "model_name": "DescriptionStyleModel",
      "state": {
       "description_width": ""
      }
     },
     "7c13f0506d5746d4a120bf5432bdf5f9": {
      "model_module": "@jupyter-widgets/base",
      "model_module_version": "1.2.0",
      "model_name": "LayoutModel",
      "state": {
       "grid_template_areas": "\n                    \"label input\"\n                    \". description\"\n                ",
       "grid_template_columns": "25% 75%",
       "grid_template_rows": "auto auto",
       "width": "100%"
      }
     },
     "7de69cb0b76c4cc0915fbec21e9aa273": {
      "model_module": "@jupyter-widgets/base",
      "model_module_version": "1.2.0",
      "model_name": "LayoutModel",
      "state": {}
     },
     "7fa5d36d457b4d96a3c2a3e0032109b9": {
      "model_module": "@jupyter-widgets/controls",
      "model_module_version": "1.5.0",
      "model_name": "DescriptionStyleModel",
      "state": {
       "description_width": ""
      }
     },
     "8065f14f71174a4588c9d23c98c41285": {
      "model_module": "@jupyter-widgets/controls",
      "model_module_version": "1.5.0",
      "model_name": "DescriptionStyleModel",
      "state": {
       "description_width": ""
      }
     },
     "818a752416a74168ab8f7d64d0b36c0e": {
      "model_module": "@jupyter-widgets/controls",
      "model_module_version": "1.5.0",
      "model_name": "LabelModel",
      "state": {
       "description": "output variable",
       "layout": "IPY_MODEL_f1eb0f484b644b9e89c2ff7eb5e9bb0e",
       "style": "IPY_MODEL_1a09a94e145a48ae8b2762e3a797ad9e",
       "value": "output variable"
      }
     },
     "83132f2f707d4a93a3dabd38fa490f5b": {
      "model_module": "@jupyter-widgets/base",
      "model_module_version": "1.2.0",
      "model_name": "LayoutModel",
      "state": {}
     },
     "8532c22c510d4e4e98c0ef5ec3864a69": {
      "model_module": "@jupyter-widgets/base",
      "model_module_version": "1.2.0",
      "model_name": "LayoutModel",
      "state": {
       "display": "none",
       "grid_template_areas": "\n                    \"label input\"\n                    \". description\"\n                ",
       "grid_template_columns": "25% 75%",
       "grid_template_rows": "auto auto",
       "width": "100%"
      }
     },
     "887bbc814bd84e6aa8c6ac5eaf65955a": {
      "model_module": "@jupyter-widgets/controls",
      "model_module_version": "1.5.0",
      "model_name": "LabelModel",
      "state": {
       "description": "Choose the genome for your data.",
       "layout": "IPY_MODEL_de838d705a794818a0df2d21587d4426",
       "style": "IPY_MODEL_31f5459167e743ae9fcad003c0893653",
       "value": "Choose the genome for your data."
      }
     },
     "922468442e4c455892efb31096ce0148": {
      "model_module": "@jupyter-widgets/base",
      "model_module_version": "1.2.0",
      "model_name": "LayoutModel",
      "state": {}
     },
     "976a18731cd44379b8fb091dd1806cc7": {
      "model_module": "@jupyter-widgets/controls",
      "model_module_version": "1.5.0",
      "model_name": "ComboboxModel",
      "state": {
       "_dom_classes": [
        "nbtools-menu-attached"
       ],
       "choices": {},
       "ensure_option": false,
       "kinds": [],
       "layout": "IPY_MODEL_d0afc54da5ab4baf86c882ccf1c4787f",
       "style": "IPY_MODEL_f19878aacff0469dbeaa34fb7ad88f71"
      }
     },
     "97f07f7671c5499eb17fc40f321f37b8": {
      "model_module": "@jupyter-widgets/base",
      "model_module_version": "1.2.0",
      "model_name": "LayoutModel",
      "state": {}
     },
     "9ce9dd17677e4a74ac4eb646ce56d76c": {
      "model_module": "@jupyter-widgets/base",
      "model_module_version": "1.2.0",
      "model_name": "LayoutModel",
      "state": {
       "grid_area": "input",
       "width": "auto"
      }
     },
     "a3e99b8dfbb447ed886ea34e5f6ee071": {
      "model_module": "@jupyter-widgets/controls",
      "model_module_version": "1.5.0",
      "model_name": "GridBoxModel",
      "state": {
       "_dom_classes": [
        "nbtools-input",
        "nbtools-comboinput"
       ],
       "children": [
        "IPY_MODEL_b8e7e7a4227d421195c33ea6bf56d99e",
        "IPY_MODEL_0d524680479646e892252c6c067ec21f",
        "IPY_MODEL_fecd25cf434246049820fdf764d126f1"
       ],
       "layout": "IPY_MODEL_cd50efa574cb4f8da7df8ee827d7d5f2"
      }
     },
     "aabffc7e971746578037e2ac605e9122": {
      "model_module": "@jupyter-widgets/base",
      "model_module_version": "1.2.0",
      "model_name": "LayoutModel",
      "state": {
       "grid_area": "description",
       "width": "auto"
      }
     },
     "aaf9c9c1304e4143acfeb7c5084966ef": {
      "model_module": "@jupyter-widgets/controls",
      "model_module_version": "1.5.0",
      "model_name": "DescriptionStyleModel",
      "state": {
       "description_width": ""
      }
     },
     "acbd7b88b72c43a18dc972d2420ac94c": {
      "model_module": "@jupyter-widgets/controls",
      "model_module_version": "1.5.0",
      "model_name": "DescriptionStyleModel",
      "state": {
       "description_width": ""
      }
     },
     "ad4ced702d614d368cb113b33e46e635": {
      "model_module": "@jupyter-widgets/base",
      "model_module_version": "1.2.0",
      "model_name": "LayoutModel",
      "state": {
       "grid_area": "description",
       "width": "auto"
      }
     },
     "ae4464f2d8304cbbbd7e234e831f1a4e": {
      "model_module": "@jupyter-widgets/controls",
      "model_module_version": "1.5.0",
      "model_name": "DescriptionStyleModel",
      "state": {
       "description_width": ""
      }
     },
     "ae75ab19d292442591e1bfce85a2ae3c": {
      "model_module": "@jupyter-widgets/controls",
      "model_module_version": "1.5.0",
      "model_name": "ComboboxModel",
      "state": {
       "_dom_classes": [
        "nbtools-menu-attached"
       ],
       "choices": {},
       "ensure_option": false,
       "kinds": [],
       "layout": "IPY_MODEL_d3a78160a97d4655afe54a814fcbab1b",
       "style": "IPY_MODEL_cb99c3f428f144b99c48d1ca0e564adb"
      }
     },
     "b078e05de544481f8a0f05cd6cd854c1": {
      "model_module": "@jupyter-widgets/controls",
      "model_module_version": "1.5.0",
      "model_name": "HBoxModel",
      "state": {
       "children": [
        "IPY_MODEL_b11ab02b9946440a89f366e59d99594c",
        "IPY_MODEL_ee0051ba963446178a2ae3741339c0f6"
       ],
       "layout": "IPY_MODEL_2d7083fd4adb4390b8a43fd54d08b73f"
      }
     },
     "b11ab02b9946440a89f366e59d99594c": {
      "model_module": "@jupyter-widgets/controls",
      "model_module_version": "1.5.0",
      "model_name": "FileUploadModel",
      "state": {
       "description_tooltip": null,
       "layout": "IPY_MODEL_d2436d30da17414fa571df7774e3922a",
       "style": "IPY_MODEL_c23f5d9b1a334f24a16e6ca9bd4fd649"
      }
     },
     "b8e7e7a4227d421195c33ea6bf56d99e": {
      "model_module": "@jupyter-widgets/controls",
      "model_module_version": "1.5.0",
      "model_name": "LabelModel",
      "state": {
       "description": "track type",
       "layout": "IPY_MODEL_e5e76751ca5c4ef39ef594851cf63f8b",
       "style": "IPY_MODEL_7ab9905bedc9422994973589255ceb70",
       "value": "track type"
      }
     },
     "ba1d914f99484f829a9f90773a438584": {
      "model_module": "@jupyter-widgets/controls",
      "model_module_version": "1.5.0",
      "model_name": "ButtonStyleModel",
      "state": {}
     },
     "bb1188efa08c440c8596d8888ece18eb": {
      "model_module": "@jupyter-widgets/controls",
      "model_module_version": "1.5.0",
      "model_name": "LabelModel",
      "state": {
       "description": "Enter the format of the track datasets",
       "layout": "IPY_MODEL_1bfaa97487dc4fe1a01224d308d65a22",
       "style": "IPY_MODEL_ae4464f2d8304cbbbd7e234e831f1a4e",
       "value": "Enter the format of the track datasets"
      }
     },
     "c0a275dc106343a0bbd967109ee6d3d3": {
      "model_module": "@jupyter-widgets/controls",
      "model_module_version": "1.5.0",
      "model_name": "VBoxModel",
      "state": {
       "_dom_classes": [
        "widget-interact"
       ],
       "children": [
        "IPY_MODEL_d8adc6087d744c9ead48f49f882136ee",
        "IPY_MODEL_d721da6dce244c5aba0e704268b8a12b"
       ],
       "layout": "IPY_MODEL_83132f2f707d4a93a3dabd38fa490f5b"
      }
     },
     "c1309e20f5c9440ebca676067ea0fe85": {
      "model_module": "@jupyter-widgets/controls",
      "model_module_version": "1.5.0",
      "model_name": "ButtonStyleModel",
      "state": {}
     },
     "c23f5d9b1a334f24a16e6ca9bd4fd649": {
      "model_module": "@jupyter-widgets/controls",
      "model_module_version": "1.5.0",
      "model_name": "ButtonStyleModel",
      "state": {}
     },
     "c5c45567b39f4dfabb0f403040f7e353": {
      "model_module": "@jupyter-widgets/controls",
      "model_module_version": "1.5.0",
      "model_name": "GridBoxModel",
      "state": {
       "_dom_classes": [
        "nbtools-input",
        "nbtools-comboinput",
        "required"
       ],
       "children": [
        "IPY_MODEL_521cc644a2a348c3b3faf4e6c2a38ad2",
        "IPY_MODEL_391a7354dac64ba1993834cc152533b5",
        "IPY_MODEL_887bbc814bd84e6aa8c6ac5eaf65955a"
       ],
       "layout": "IPY_MODEL_d59d09c918814fe5bc161dc76b63fc68"
      }
     },
     "c716fe547fdb48ab86a5ca01bfe9aa62": {
      "model_module": "@jupyter-widgets/controls",
      "model_module_version": "1.5.0",
      "model_name": "ButtonStyleModel",
      "state": {}
     },
     "c9e760087ff44ce09f78cb4af83cfe4b": {
      "model_module": "@jupyter-widgets/base",
      "model_module_version": "1.2.0",
      "model_name": "LayoutModel",
      "state": {}
     },
     "cb99c3f428f144b99c48d1ca0e564adb": {
      "model_module": "@jupyter-widgets/controls",
      "model_module_version": "1.5.0",
      "model_name": "DescriptionStyleModel",
      "state": {
       "description_width": ""
      }
     },
     "cbf458becd5842858066cdba9d40961f": {
      "model_module": "@jupyter-widgets/controls",
      "model_module_version": "1.5.0",
      "model_name": "DescriptionStyleModel",
      "state": {
       "description_width": ""
      }
     },
     "cd50efa574cb4f8da7df8ee827d7d5f2": {
      "model_module": "@jupyter-widgets/base",
      "model_module_version": "1.2.0",
      "model_name": "LayoutModel",
      "state": {
       "grid_template_areas": "\n                    \"label input\"\n                    \". description\"\n                ",
       "grid_template_columns": "25% 75%",
       "grid_template_rows": "auto auto",
       "width": "100%"
      }
     },
     "d0afc54da5ab4baf86c882ccf1c4787f": {
      "model_module": "@jupyter-widgets/base",
      "model_module_version": "1.2.0",
      "model_name": "LayoutModel",
      "state": {}
     },
     "d0dc59cf2a5a448085dc89f30dee2155": {
      "model_module": "@jupyter-widgets/controls",
      "model_module_version": "1.5.0",
      "model_name": "ComboboxModel",
      "state": {
       "_dom_classes": [
        "nbtools-menu-attached"
       ],
       "choices": {
        "": "",
        "bam": "bam",
        "bb": "bb",
        "bed": "bed",
        "bedgraph": "bedgraph",
        "bedpe": "bedpe",
        "bedpe-loop": "bedpe-loop",
        "bigbed": "bigbed",
        "bigwig": "bigwig",
        "bp": "bp",
        "bw": "bw",
        "cram": "cram",
        "gwas": "gwas",
        "mut": "mut",
        "seg": "seg",
        "tdf": "tdf",
        "vcf": "vcf",
        "wig": "wig"
       },
       "ensure_option": false,
       "kinds": [],
       "layout": "IPY_MODEL_14ab62f4f8984f099725204b3dfad4de",
       "style": "IPY_MODEL_21edd36a67494a2a93ba4d94e19c3868"
      }
     },
     "d2436d30da17414fa571df7774e3922a": {
      "model_module": "@jupyter-widgets/base",
      "model_module_version": "1.2.0",
      "model_name": "LayoutModel",
      "state": {}
     },
     "d3a78160a97d4655afe54a814fcbab1b": {
      "model_module": "@jupyter-widgets/base",
      "model_module_version": "1.2.0",
      "model_name": "LayoutModel",
      "state": {}
     },
     "d59d09c918814fe5bc161dc76b63fc68": {
      "model_module": "@jupyter-widgets/base",
      "model_module_version": "1.2.0",
      "model_name": "LayoutModel",
      "state": {
       "grid_template_areas": "\n                    \"label input\"\n                    \". description\"\n                ",
       "grid_template_columns": "25% 75%",
       "grid_template_rows": "auto auto",
       "width": "100%"
      }
     },
     "d6974c30343845e0accf1d7002131d17": {
      "model_module": "@jupyter-widgets/controls",
      "model_module_version": "1.5.0",
      "model_name": "VBoxModel",
      "state": {
       "_dom_classes": [
        "widget-interact"
       ],
       "children": [
        "IPY_MODEL_c5c45567b39f4dfabb0f403040f7e353",
        "IPY_MODEL_dddd33f330ba4374b144f188dc4a8608",
        "IPY_MODEL_2410ba9367f245f5aa5a3f009eccd749",
        "IPY_MODEL_1f9faef49ac245f1b13faa43c751b505",
        "IPY_MODEL_a3e99b8dfbb447ed886ea34e5f6ee071",
        "IPY_MODEL_1797c4973d79477082c27edabf58b242",
        "IPY_MODEL_fa43914744d145b89b5992282841ea2e",
        "IPY_MODEL_0b4d819ac96c401c9cdc59eefe8cf3fd"
       ],
       "layout": "IPY_MODEL_29b45fab82154584b75c3c4a762df155"
      }
     },
     "d721da6dce244c5aba0e704268b8a12b": {
      "model_module": "@jupyter-widgets/output",
      "model_module_version": "1.0.0",
      "model_name": "OutputModel",
      "state": {
       "layout": "IPY_MODEL_36be0ef0905a47d0a3ba9a8485d261b1"
      }
     },
     "d8adc6087d744c9ead48f49f882136ee": {
      "model_module": "@jupyter-widgets/controls",
      "model_module_version": "1.5.0",
      "model_name": "ButtonModel",
      "state": {
       "_dom_classes": [
        "hidden"
       ],
       "description": "Run",
       "layout": "IPY_MODEL_154f7dfd1eca43cbafce73dc68ba2206",
       "style": "IPY_MODEL_c1309e20f5c9440ebca676067ea0fe85"
      }
     },
     "da74e0bb4f074ed88d9ca903f6b05fb9": {
      "model_module": "@jupyter-widgets/controls",
      "model_module_version": "1.5.0",
      "model_name": "DescriptionStyleModel",
      "state": {
       "description_width": ""
      }
     },
     "dddd33f330ba4374b144f188dc4a8608": {
      "model_module": "@jupyter-widgets/controls",
      "model_module_version": "1.5.0",
      "model_name": "GridBoxModel",
      "state": {
       "_dom_classes": [
        "nbtools-input",
        "nbtools-fileinput"
       ],
       "children": [
        "IPY_MODEL_2182c5f6d171460cad21e6b289ba20b6",
        "IPY_MODEL_63ac474e6188425b985b772f9ea0b636",
        "IPY_MODEL_307c86004abd43b8a35dd1a2f3a00239"
       ],
       "layout": "IPY_MODEL_7c13f0506d5746d4a120bf5432bdf5f9"
      }
     },
     "de838d705a794818a0df2d21587d4426": {
      "model_module": "@jupyter-widgets/base",
      "model_module_version": "1.2.0",
      "model_name": "LayoutModel",
      "state": {
       "grid_area": "description",
       "width": "auto"
      }
     },
     "e174068c391845b393ff684a781b52c0": {
      "model_module": "@jupyter-widgets/controls",
      "model_module_version": "1.5.0",
      "model_name": "TextModel",
      "state": {
       "_dom_classes": [
        "nbtools-menu-attached"
       ],
       "layout": "IPY_MODEL_71df9807dec54c688dfaffbfcc2e8c39",
       "style": "IPY_MODEL_089888607fd54c97bc8881380dd79f28"
      }
     },
     "e331e9d03a7a4d27ba1e295150b1a2fc": {
      "model_module": "@jupyter-widgets/controls",
      "model_module_version": "1.5.0",
      "model_name": "LabelModel",
      "state": {
       "description": "Provide a locus or gene of interest for your data",
       "layout": "IPY_MODEL_ad4ced702d614d368cb113b33e46e635",
       "style": "IPY_MODEL_7a5886aaf37248a9a478c1b1bac434ef",
       "value": "Provide a locus or gene of interest for your data"
      }
     },
     "e4f06ede05754f30b6932a7b4afe3448": {
      "model_module": "@jupyter-widgets/controls",
      "model_module_version": "1.5.0",
      "model_name": "LabelModel",
      "state": {
       "layout": "IPY_MODEL_58cdbe7336be4c91aa1a897c2846d6db",
       "style": "IPY_MODEL_538c0eeb5cd841f0b8d0152cdf206755"
      }
     },
     "e5e76751ca5c4ef39ef594851cf63f8b": {
      "model_module": "@jupyter-widgets/base",
      "model_module_version": "1.2.0",
      "model_name": "LayoutModel",
      "state": {
       "grid_area": "label",
       "width": "auto"
      }
     },
     "ee0051ba963446178a2ae3741339c0f6": {
      "model_module": "@jupyter-widgets/controls",
      "model_module_version": "1.5.0",
      "model_name": "VBoxModel",
      "state": {
       "children": [
        "IPY_MODEL_f8e3101c1c3947f18ecb4cba638d5953",
        "IPY_MODEL_976a18731cd44379b8fb091dd1806cc7"
       ],
       "layout": "IPY_MODEL_c9e760087ff44ce09f78cb4af83cfe4b"
      }
     },
     "f19878aacff0469dbeaa34fb7ad88f71": {
      "model_module": "@jupyter-widgets/controls",
      "model_module_version": "1.5.0",
      "model_name": "DescriptionStyleModel",
      "state": {
       "description_width": ""
      }
     },
     "f1eb0f484b644b9e89c2ff7eb5e9bb0e": {
      "model_module": "@jupyter-widgets/base",
      "model_module_version": "1.2.0",
      "model_name": "LayoutModel",
      "state": {
       "grid_area": "label",
       "width": "auto"
      }
     },
     "f2e47c9662f94890aec8555718c26c7f": {
      "model_module": "@jupyter-widgets/base",
      "model_module_version": "1.2.0",
      "model_name": "LayoutModel",
      "state": {
       "grid_area": "input",
       "width": "auto"
      }
     },
     "f485df475c71427dae73f92899b345d3": {
      "model_module": "@jupyter-widgets/base",
      "model_module_version": "1.2.0",
      "model_name": "LayoutModel",
      "state": {
       "grid_area": "label",
       "width": "auto"
      }
     },
     "f5b6d174545f4a8a87e3a7143aa72642": {
      "model_module": "@jupyter-widgets/controls",
      "model_module_version": "1.5.0",
      "model_name": "DescriptionStyleModel",
      "state": {
       "description_width": ""
      }
     },
     "f8e3101c1c3947f18ecb4cba638d5953": {
      "model_module": "@jupyter-widgets/controls",
      "model_module_version": "1.5.0",
      "model_name": "ComboboxModel",
      "state": {
       "_dom_classes": [
        "nbtools-menu-attached"
       ],
       "choices": {},
       "ensure_option": false,
       "kinds": [],
       "layout": "IPY_MODEL_fa2e70dd1b7c4eab8b0279063f3969de",
       "style": "IPY_MODEL_acbd7b88b72c43a18dc972d2420ac94c"
      }
     },
     "fa2e70dd1b7c4eab8b0279063f3969de": {
      "model_module": "@jupyter-widgets/base",
      "model_module_version": "1.2.0",
      "model_name": "LayoutModel",
      "state": {}
     },
     "fa43914744d145b89b5992282841ea2e": {
      "model_module": "@jupyter-widgets/controls",
      "model_module_version": "1.5.0",
      "model_name": "ButtonModel",
      "state": {
       "_dom_classes": [
        "hidden"
       ],
       "description": "Run",
       "layout": "IPY_MODEL_7de69cb0b76c4cc0915fbec21e9aa273",
       "style": "IPY_MODEL_ba1d914f99484f829a9f90773a438584"
      }
     },
     "fe42e75ca3d0493ebe62ab73b6554c49": {
      "model_module": "@jupyter-widgets/base",
      "model_module_version": "1.2.0",
      "model_name": "LayoutModel",
      "state": {
       "grid_area": "label",
       "width": "auto"
      }
     },
     "fecd25cf434246049820fdf764d126f1": {
      "model_module": "@jupyter-widgets/controls",
      "model_module_version": "1.5.0",
      "model_name": "LabelModel",
      "state": {
       "description": "Enter the type of the track datasets",
       "layout": "IPY_MODEL_3b52b76b9e784cbe91696c6670e56860",
       "style": "IPY_MODEL_aaf9c9c1304e4143acfeb7c5084966ef",
       "value": "Enter the type of the track datasets"
      }
     }
    },
    "version_major": 2,
    "version_minor": 0
   }
  }
 },
 "nbformat": 4,
 "nbformat_minor": 4
}
