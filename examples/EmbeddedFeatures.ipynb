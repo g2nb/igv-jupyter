{
 "cells": [
  {
   "cell_type": "code",
   "execution_count": 1,
   "metadata": {},
   "outputs": [],
   "source": [
    "import igv"
   ]
  },
  {
   "cell_type": "code",
   "execution_count": 2,
   "metadata": {},
   "outputs": [],
   "source": [
    "b = igv.Browser(\n",
    "    {\"reference\": {\n",
    "        \"id\": \"hg19\",\n",
    "        \"fastaURL\": \"files/data/hg19.snippet.fasta\",\n",
    "        \"indexed\": False,\n",
    "        \"cytobandURL\": \"files/data/cytoband.hg19.snippet.txt\",\n",
    "        \"tracks\": [\n",
    "            {\n",
    "                \"name\": \"RefGene\",\n",
    "                \"url\": \"files/data/refgene.hg19.snippet.bed\"\n",
    "            }\n",
    "        ]\n",
    "    }}\n",
    ")"
   ]
  },
  {
   "cell_type": "code",
   "execution_count": 3,
   "metadata": {},
   "outputs": [
    {
     "data": {
      "text/html": [
       "<div id=\"igv_5534280\" class=\"igv-js\"></div>"
      ],
      "text/plain": [
       "<IPython.core.display.HTML object>"
      ]
     },
     "metadata": {},
     "output_type": "execute_result"
    }
   ],
   "source": [
    "b.show()"
   ]
  },
  {
   "cell_type": "code",
   "execution_count": 4,
   "metadata": {},
   "outputs": [
    {
     "data": {
      "text/plain": [
       "'OK'"
      ]
     },
     "execution_count": 4,
     "metadata": {},
     "output_type": "execute_result"
    }
   ],
   "source": [
    "b.load_track({\n",
    "    \"name\": \"Copy number\",\n",
    "    \"type\": \"seg\",\n",
    "    \"displayMode\": \"EXPANDED\",\n",
    "    \"height\": 100,\n",
    "    \"isLog\": True,\n",
    "    \"features\": [\n",
    "        {\n",
    "            \"chr\": \"chr20\",\n",
    "            \"start\": 1233820,\n",
    "            \"end\": 1235000,\n",
    "            \"value\": 0.8239,\n",
    "            \"sample\": \"TCGA-OR-A5J2-01\"\n",
    "        },\n",
    "        {\n",
    "            \"chr\": \"chr20\",\n",
    "            \"start\": 1234500,\n",
    "            \"end\": 1235180,\n",
    "            \"value\": -0.8391,\n",
    "            \"sample\": \"TCGA-OR-A5J3-01\"\n",
    "        }\n",
    "    ]\n",
    "})\n"
   ]
  },
  {
   "cell_type": "code",
   "execution_count": 5,
   "metadata": {
    "scrolled": true
   },
   "outputs": [
    {
     "data": {
      "text/plain": [
       "'OK'"
      ]
     },
     "execution_count": 5,
     "metadata": {},
     "output_type": "execute_result"
    }
   ],
   "source": [
    "b.zoom_in()"
   ]
  },
  {
   "cell_type": "code",
   "execution_count": 6,
   "metadata": {
    "scrolled": true
   },
   "outputs": [
    {
     "data": {
      "text/plain": [
       "'OK'"
      ]
     },
     "execution_count": 6,
     "metadata": {},
     "output_type": "execute_result"
    }
   ],
   "source": [
    "b.zoom_out()"
   ]
  },
  {
   "cell_type": "code",
   "execution_count": null,
   "metadata": {},
   "outputs": [],
   "source": []
  }
 ],
 "metadata": {
  "kernelspec": {
   "display_name": "Python 3",
   "language": "python",
   "name": "python3"
  },
  "language_info": {
   "codemirror_mode": {
    "name": "ipython",
    "version": 3
   },
   "file_extension": ".py",
   "mimetype": "text/x-python",
   "name": "python",
   "nbconvert_exporter": "python",
   "pygments_lexer": "ipython3",
   "version": "3.7.1"
  }
 },
 "nbformat": 4,
 "nbformat_minor": 2
}
